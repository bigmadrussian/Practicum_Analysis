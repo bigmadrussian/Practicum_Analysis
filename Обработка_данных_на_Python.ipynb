{
 "cells": [
  {
   "cell_type": "markdown",
   "metadata": {},
   "source": [
    "Постановка задачи:\n",
    "\n",
    "Вопрос: Сколько поездок делают каждый день клиенты системы Citi Bike отдельно по категориям subscribers и customers?\n",
    "\n",
    "Ответ: Выберите один день для исследования.\n",
    "Имя файла: JC-202009-citibike-tripdata.csv.zip\n",
    "\n",
    "Набросок программы:\n",
    "1. Считываем файл данных: JC-202009-citibike-tripdata.csv;\n",
    "2. Создаем переменные для подсчета значений subscribers, customers, и other;\n",
    "3. Для каждой строки в файле:\n",
    "    a. Если значение \"User Type\" равно  \"Subcriber\", то инкрементируем на 1 значение \"subscriber_count\";\n",
    "    b. Если значение \"User Type\" равно  \"Customer\", то инкрементируем на 1 значение \"subscriber_count\";\n",
    "    c. В противном случае инкрементируем на 1 значение переменой other.\n",
    "4. Отображаем полученный результат.\n",
    "\n"
   ]
  },
  {
   "cell_type": "code",
   "execution_count": 27,
   "metadata": {},
   "outputs": [],
   "source": [
    "# Импортирование библиотек:\n",
    "\n",
    "import csv # для работы с файлами формата csv"
   ]
  },
  {
   "cell_type": "code",
   "execution_count": 28,
   "metadata": {},
   "outputs": [
    {
     "name": "stdout",
     "output_type": "stream",
     "text": [
      "['tripduration', 'starttime', 'stoptime', 'start station id', 'start station name', 'start station latitude', 'start station longitude', 'end station id', 'end station name', 'end station latitude', 'end station longitude', 'bikeid', 'usertype', 'birth year', 'gender']\n"
     ]
    }
   ],
   "source": [
    "# Открытие файла JC-202502-citibike-tripdata.csv в режиме чтения (r)\n",
    "source_file = open(\"C:/Users/bigmi/Desktop/Данные/JC-202009-citibike-tripdata.csv\", \"r\")\n",
    "\n",
    "# Передача исходного файла source_file как аргумент методу DictReader\n",
    "citibike_reader = csv.DictReader(source_file)\n",
    "\n",
    "print(citibike_reader.fieldnames)\n"
   ]
  },
  {
   "cell_type": "code",
   "execution_count": 29,
   "metadata": {},
   "outputs": [],
   "source": [
    "# Создание переменных для хранения количества пользователей каждого типа системы:\n",
    "\n",
    "# Количество подписчиков:\n",
    "subscribe_count = 0\n",
    "\n",
    "# Количество клиентов:\n",
    "customer_count = 0\n",
    "\n",
    "# Количество других пользователей:\n",
    "other_user_count = 0"
   ]
  },
  {
   "cell_type": "code",
   "execution_count": null,
   "metadata": {},
   "outputs": [],
   "source": [
    "# Шаг 3: Обработка в цикле каждую строку данных\n",
    "for a_row in citibike_reader:\n",
    "    \n",
    "    #Шаг 3а: Если значение \"User Type\" равно  \"Subcriber\", то инкрементируем на 1 значение \"subscriber_count\"\n",
    "    if a_row[\"usertype\"] == \"Subscriber\":\n",
    "        subscribe_count += 1\n",
    "    \n",
    "    #Шаг 3b: Если значение \"User Type\" равно  \"Customer\", то инкрементируем на 1 значение \"subscriber_count\"\n",
    "    elif a_row[\"usertype\"] == \"Customer\":\n",
    "        customer_count += 1\n",
    "    \n",
    "    #Шаг 3c: Значение столбца usertype текущей строки не равно ни \"Subcriber\", \"Customer\".\n",
    "    else:\n",
    "        other_user_count += 1\n",
    "    "
   ]
  },
  {
   "cell_type": "code",
   "execution_count": 31,
   "metadata": {},
   "outputs": [
    {
     "name": "stdout",
     "output_type": "stream",
     "text": [
      "Number of subscribers = 35284\n",
      "Number of customers = 18549\n",
      "Number of other users = 0\n"
     ]
    }
   ],
   "source": [
    "#Шаг 4: Отображение результатов:\n",
    "print(f'Number of subscribers = {subscribe_count}') # Количество подписчиков\n",
    "print(f'Number of customers = {customer_count}') # Количество клиентов\n",
    "print(f'Number of other users = {other_user_count}') # Количество других пользователей"
   ]
  }
 ],
 "metadata": {
  "kernelspec": {
   "display_name": "Python 3",
   "language": "python",
   "name": "python3"
  },
  "language_info": {
   "codemirror_mode": {
    "name": "ipython",
    "version": 3
   },
   "file_extension": ".py",
   "mimetype": "text/x-python",
   "name": "python",
   "nbconvert_exporter": "python",
   "pygments_lexer": "ipython3",
   "version": "3.13.0"
  }
 },
 "nbformat": 4,
 "nbformat_minor": 2
}
